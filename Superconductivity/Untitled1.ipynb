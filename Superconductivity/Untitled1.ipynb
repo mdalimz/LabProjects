{
 "cells": [
  {
   "cell_type": "code",
   "execution_count": 71,
   "id": "32d88886",
   "metadata": {},
   "outputs": [],
   "source": [
    "import numpy as np\n",
    "import matplotlib.pyplot as plt\n",
    "from scipy.optimize import curve_fit"
   ]
  },
  {
   "cell_type": "code",
   "execution_count": 89,
   "id": "c8e3c447",
   "metadata": {},
   "outputs": [
    {
     "name": "stdout",
     "output_type": "stream",
     "text": [
      "0.711767213999182\n",
      "0.6657181890168029\n",
      "0.5864637446593746\n",
      "0.4819397673184188\n",
      "0.3796695120996163\n",
      "0.2220655928855475\n",
      "0.1310900531669581\n"
     ]
    }
   ],
   "source": [
    "Tc=3.39\n",
    "T=[1.82,1.96,2.18,2.44,2.67,2.99,3.16]\n",
    "for i in T:\n",
    "    z=(1-(i/Tc)**2)\n",
    "    print(z)"
   ]
  },
  {
   "cell_type": "code",
   "execution_count": 90,
   "id": "4a9e95ce",
   "metadata": {},
   "outputs": [
    {
     "name": "stdout",
     "output_type": "stream",
     "text": [
      "[0.71176721 0.66571819 0.58646374 0.48193977 0.37966951 0.22206559\n",
      " 0.13109005]\n"
     ]
    }
   ],
   "source": [
    "# Tc=3.39\n",
    "# T=[1.82,1.96,2.18,2.44,2.67,2.99,3.16]\n",
    "def diff(i):\n",
    "     return (1-(i/Tc)**2)\n",
    "m = np.array( T )\n",
    "#s=diff(m)\n",
    "print(diff(m))\n",
    "\n",
    "# Tc=3.39\n",
    "# T=[1.82,1.96,2.18,2.44,2.67,2.99,3.16]\n",
    "# def diff(i):\n",
    "#      return (1-(i/Tc)**2)\n",
    "# m = np.array( T ) #write line  13 and 14 with hand and then only program will run\n",
    "# #s=diff(m)\n",
    "# print(diff(m))"
   ]
  },
  {
   "cell_type": "code",
   "execution_count": 99,
   "id": "00f9039b",
   "metadata": {},
   "outputs": [
    {
     "name": "stdout",
     "output_type": "stream",
     "text": [
      "[0.71176721 0.66571819 0.58646374 0.48193977 0.37966951 0.22206559\n",
      " 0.13109005]\n",
      "[15.25 14.15 12.4   9.8   7.85  4.55  2.85]\n",
      "[21.41040845 -0.17250952]\n"
     ]
    },
    {
     "data": {
      "image/png": "[encoded data removed]",
      "text/plain": [
       "<Figure size 432x288 with 1 Axes>"
      ]
     },
     "metadata": {
      "needs_background": "light"
     },
     "output_type": "display_data"
    }
   ],
   "source": [
    "p=[0.711767213999182, 0.6657181890168029, 0.5864637446593746, 0.4819397673184188, 0.3796695120996163, 0.2220655928855475, 0.1310900531669581]\n",
    "mag_field=[15.25, 14.15, 12.4, 9.8, 7.8500000000000005, 4.55, 2.8499999999999996]\n",
    "q=np.array( p )\n",
    "d=np.array( mag_field)\n",
    "def objective(x, a, b):\n",
    "    return a * x + b\n",
    "\n",
    "# curve fit\n",
    "popt,pcov = curve_fit(objective,q,d,p0=[1,1])\n",
    "#popt1,pcov = curve_fit(objective, mean_nettemp[15:20], R_anio[15:20])\n",
    "plt.plot(q,d,'-o', label='data')\n",
    "plt.plot(q,objective(q, *popt), label='fit')\n",
    "print(q)\n",
    "print(d)\n",
    "print\n",
    "print(popt)\n",
    "\n"
   ]
  },
  {
   "cell_type": "code",
   "execution_count": 55,
   "id": "29847ad2",
   "metadata": {},
   "outputs": [
    {
     "name": "stdout",
     "output_type": "stream",
     "text": [
      "[ 6  7  8  9 10 11 12]\n"
     ]
    }
   ],
   "source": [
    "k=[1,2,3,4,5,6,7]\n",
    "l=np.array( k )\n",
    "def sum(a):\n",
    "    return (5+a)\n",
    "print(sum(l))"
   ]
  },
  {
   "cell_type": "code",
   "execution_count": 84,
   "id": "8a08feb5",
   "metadata": {},
   "outputs": [
    {
     "name": "stdout",
     "output_type": "stream",
     "text": [
      "[0.71176721 0.66571819 0.58646374 0.48193977 0.37966951 0.22206559\n",
      " 0.13109005]\n"
     ]
    }
   ],
   "source": [
    "Tc=3.39\n",
    "T=[1.82,1.96,2.18,2.44,2.67,2.99,3.16]\n",
    "def diff(i):\n",
    "     return (1-(i/Tc)**2)\n",
    "m = np.array( T )\n",
    "#s=diff(m)\n",
    "print(diff(m))\n",
    "# Tc=3.39\n",
    "# T=[1.82,1.96,2.18,2.44,2.67,2.99,3.16]"
   ]
  },
  {
   "cell_type": "code",
   "execution_count": 58,
   "id": "cc262a5d",
   "metadata": {},
   "outputs": [
    {
     "name": "stdout",
     "output_type": "stream",
     "text": [
      " your line 6 here \n"
     ]
    }
   ],
   "source": [
    "s = ' your line 6 here '\n",
    "print(s)"
   ]
  },
  {
   "cell_type": "markdown",
   "id": "e3d44ba5",
   "metadata": {},
   "source": [
    "## Tin(Sn)"
   ]
  },
  {
   "cell_type": "code",
   "execution_count": 106,
   "id": "e9abddb8",
   "metadata": {},
   "outputs": [
    {
     "name": "stdout",
     "output_type": "stream",
     "text": [
      "21.252999999999997\n",
      "20.352\n",
      "17.383999999999997\n",
      "16.058999999999997\n",
      "12.137\n",
      "9.752\n"
     ]
    }
   ],
   "source": [
    "def B(I):\n",
    "    y=5.3*I\n",
    "    return(y)\n",
    "mag_field=[]\n",
    "cur=[4.01,3.84,3.28,3.03,2.29,1.84]\n",
    "er_curC=[0.03,0.03,0.02,0.02,0.02,0.02]\n",
    "for i in cur:\n",
    "    mag=B(i)\n",
    "    print(mag)\n",
    "    mag_field.append(mag)\n"
   ]
  },
  {
   "cell_type": "code",
   "execution_count": 107,
   "id": "e0ca8773",
   "metadata": {},
   "outputs": [
    {
     "name": "stdout",
     "output_type": "stream",
     "text": [
      "[21.253 20.352 17.384 16.059 12.137  9.752]\n"
     ]
    }
   ],
   "source": [
    "def B(I):\n",
    "    y=5.3*I\n",
    "    return(y)\n",
    "cur_C=np.array(cur)\n",
    "cric_mag=B(cur_C)\n",
    "print(cric_mag)"
   ]
  },
  {
   "cell_type": "code",
   "execution_count": 110,
   "id": "d3e9d880",
   "metadata": {},
   "outputs": [
    {
     "name": "stdout",
     "output_type": "stream",
     "text": [
      "[0.81760932 0.7842863  0.66450884 0.61520078 0.47010637 0.38296214]\n"
     ]
    }
   ],
   "source": [
    "def errorB(i):\n",
    "    return np.sqrt((0.2/5.3)**2 + (er_criC/cur_C)**2)*cric_mag\n",
    "er_criC=np.array(er_curC)\n",
    "er_B=errorB(er_criC)\n",
    "print(errorB(er_B))\n"
   ]
  },
  {
   "cell_type": "code",
   "execution_count": 118,
   "id": "1a80eb02",
   "metadata": {},
   "outputs": [
    {
     "name": "stdout",
     "output_type": "stream",
     "text": [
      "[0.76460502 0.73217283 0.65472497 0.59877507 0.45455206 0.37201851]\n"
     ]
    }
   ],
   "source": [
    "Tc=3.71\n",
    "T=[1.80,1.92,2.18,2.35,2.74,2.94]\n",
    "def rel_T(n):\n",
    "    return (1-(T_ar/Tc)**2)\n",
    "T_ar=np.array(T) \n",
    "relativeT=(rel_T(T_ar))\n",
    "print(relativeT)"
   ]
  },
  {
   "cell_type": "code",
   "execution_count": 131,
   "id": "4019d002",
   "metadata": {},
   "outputs": [
    {
     "name": "stdout",
     "output_type": "stream",
     "text": [
      "[29.06634294 -1.17148404]\n",
      "0.5408493057294966\n"
     ]
    },
    {
     "data": {
      "image/png": "[encoded data removed]",
      "text/plain": [
       "<Figure size 432x288 with 1 Axes>"
      ]
     },
     "metadata": {
      "needs_background": "light"
     },
     "output_type": "display_data"
    }
   ],
   "source": [
    "def objective(x, a, b):\n",
    "    return a * x + b\n",
    "\n",
    "# curve fit\n",
    "popt,pcov = curve_fit(objective,relativeT,cric_mag,p0=[1,1])\n",
    "#popt1,pcov = curve_fit(objective, mean_nettemp[15:20], R_anio[15:20])\n",
    "# q=np.array( relativeT )\n",
    "# d=np.array( cric_mag)\n",
    "print(popt)\n",
    "print(np.sqrt(pcov[1,1]))\n",
    "# print(pcov[1,1])\n",
    "# print(pcov)\n",
    "plt.plot(relativeT,cric_mag,'o',label='data')\n",
    "plt.plot(relativeT,objective(relativeT, *popt),label='fit')\n",
    "plt.errorbar(relativeT,cric_mag, yerr=er_B, fmt=\"r.\",markersize=5,label='error')\n",
    "# print(relativeT)\n",
    "# print(cric_mag)\n",
    "plt.legend(loc='best')\n",
    "plt.title('Plot of Temperature versus Crit. Magnetic Field of Sn')\n",
    "plt.xlabel('$(1-(T/T_c)^2$)')\n",
    "plt.ylabel('critical Field $B_c(mT)$')\n",
    "plt.show()\n",
    "\n",
    "# plt.plot(q,d,'o', label='data')\n",
    "# plt.plot(q,objective(q, *popt),label='fit')\n",
    "# plt.errorbar(q,d, yerr=er_B, fmt=\"r.\",markersize=5)\n",
    "# print(p)\n",
    "# print(mag_field)\n",
    "# #y = sigmoid(I, *popt)\n",
    "# plt.legend(loc='best')\n",
    "# plt.title('Plot of Temperature versus Crit. Magnetic Field of In')\n",
    "# plt.xlabel('$(1-(T/T_c)^2$)')\n",
    "# plt.ylabel('critical Field $B_c(mT)$')\n",
    "# plt.show()\n",
    "\n"
   ]
  },
  {
   "cell_type": "code",
   "execution_count": null,
   "id": "c848c15e",
   "metadata": {},
   "outputs": [],
   "source": []
  },
  {
   "cell_type": "code",
   "execution_count": null,
   "id": "83c096c4",
   "metadata": {},
   "outputs": [],
   "source": []
  }
 ],
 "metadata": {
  "kernelspec": {
   "display_name": "Python 3",
   "language": "python",
   "name": "python3"
  },
  "language_info": {
   "codemirror_mode": {
    "name": "ipython",
    "version": 3
   },
   "file_extension": ".py",
   "mimetype": "text/x-python",
   "name": "python",
   "nbconvert_exporter": "python",
   "pygments_lexer": "ipython3",
   "version": "3.8.8"
  }
 },
 "nbformat": 4,
 "nbformat_minor": 5
}
